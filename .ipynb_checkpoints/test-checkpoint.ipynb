{
 "cells": [
  {
   "cell_type": "code",
   "execution_count": null,
   "id": "62847630-5cff-45b7-a92d-05caf046fd3f",
   "metadata": {},
   "outputs": [],
   "source": [
    "filename = 'feature.pickle'\n",
    "\n",
    "# get data\n",
    "import pickle\n",
    "with open(filename, \"rb\") as f:\n",
    "    features = pickle.load(f)"
   ]
  },
  {
   "cell_type": "code",
   "execution_count": 48,
   "id": "6aeebf9b-ea15-47ab-8a46-e36ac077a517",
   "metadata": {},
   "outputs": [],
   "source": [
    "# id10001 - id10600\n",
    "# 1 * n * 768\n",
    "X = []\n",
    "y = []\n",
    "for ID in features.keys():\n",
    "    for data in features[ID][0]:\n",
    "        X.append(data)\n",
    "        y.append(ID)"
   ]
  },
  {
   "cell_type": "code",
   "execution_count": 49,
   "id": "724d252a-f28e-41cc-8d4b-28c58bd4ecac",
   "metadata": {},
   "outputs": [],
   "source": [
    "from sklearn.model_selection import train_test_split\n",
    "\n",
    "X_train, X_test, y_train, y_test = train_test_split(X, y, test_size = 0.2, train_size = 0.8, random_state = 0)"
   ]
  },
  {
   "cell_type": "code",
   "execution_count": 50,
   "id": "63b5412f-a090-4ebd-9b97-099eed0ce727",
   "metadata": {},
   "outputs": [],
   "source": [
    "from sklearn.preprocessing import StandardScaler\n",
    "sc = StandardScaler()\n",
    "\n",
    "X_train_std = sc.fit_transform(X_train)\n",
    "X_test_std = sc.transform(X_test)"
   ]
  },
  {
   "cell_type": "code",
   "execution_count": 62,
   "id": "4d3c51aa-e754-4944-a8a9-d2c8b9693bdf",
   "metadata": {},
   "outputs": [],
   "source": [
    "from sklearn.decomposition import PCA\n",
    "\n",
    "pca_full = PCA(n_components = 'mle')\n",
    "# pca = PCA(n_components = 61) # 1/e part of the variance\n",
    "# pca = PCA(.95)\n",
    "\n",
    "X_train_pca_full = pca_full.fit_transform(X_train_std)\n",
    "X_test_pca_full = pca_full.transform(X_test_std)"
   ]
  },
  {
   "cell_type": "code",
   "execution_count": 63,
   "id": "0c4d68c2-3c24-41dd-9a5a-5cf98c12b5a5",
   "metadata": {},
   "outputs": [
    {
     "name": "stdout",
     "output_type": "stream",
     "text": [
      "767\n"
     ]
    },
    {
     "data": {
      "image/png": "[encoded data removed]",
      "text/plain": [
       "<Figure size 432x288 with 1 Axes>"
      ]
     },
     "metadata": {
      "needs_background": "light"
     },
     "output_type": "display_data"
    },
    {
     "name": "stdout",
     "output_type": "stream",
     "text": [
      "163\n"
     ]
    }
   ],
   "source": [
    "print(pca_full.n_components_)\n",
    "# print(pca.explained_variance_ratio_)\n",
    "# print(pca.explained_variance_)\n",
    "import matplotlib.pyplot as plt\n",
    "x_axis = range(len(pca_full.explained_variance_))\n",
    "plt.plot(x_axis, pca_full.explained_variance_)\n",
    "plt.show()\n",
    "\n",
    "from math import exp\n",
    "var_sum = 0\n",
    "index = 0\n",
    "for i in range(len(pca_full.explained_variance_ratio_)):\n",
    "    var_sum += pca_full.explained_variance_ratio_[i]\n",
    "    if var_sum > 1-exp(-1):\n",
    "        index = i\n",
    "        break\n",
    "print(index)"
   ]
  },
  {
   "cell_type": "code",
   "execution_count": 64,
   "id": "f7e2369c-5bd8-4bba-aafc-b57ff06ff86b",
   "metadata": {},
   "outputs": [],
   "source": [
    "from sklearn.decomposition import PCA\n",
    "\n",
    "pca = PCA(n_components = 163)\n",
    "# pca = PCA(.95)\n",
    "\n",
    "X_train_pca = pca.fit_transform(X_train_std)\n",
    "X_test_pca = pca.transform(X_test_std)"
   ]
  },
  {
   "cell_type": "code",
   "execution_count": 65,
   "id": "05f0a618-58ae-4453-a448-c8749b3064f1",
   "metadata": {},
   "outputs": [
    {
     "name": "stdout",
     "output_type": "stream",
     "text": [
      "Test:  0.8627442812286832\n",
      "Train:  0.5762221157651372\n"
     ]
    }
   ],
   "source": [
    "from sklearn.neighbors import KNeighborsClassifier\n",
    "\n",
    "knnModel = KNeighborsClassifier(n_neighbors = 5)\n",
    "knnModel.fit(X_train_pca, y_train)\n",
    "# predicted = knnModel.predict(X_train)\n",
    "print('Train: ', knnModel.score(X_train_pca, y_train))\n",
    "print('Test: ', knnModel.score(X_test_pca, y_test))"
   ]
  },
  {
   "cell_type": "code",
   "execution_count": null,
   "id": "66c1744c-4005-4253-b2a4-ff7ce54424d9",
   "metadata": {},
   "outputs": [],
   "source": [
    "from joblib import parallel_backend\n",
    "from sklearn import svm\n",
    "\n",
    "clf = svm.SVC(kernel = 'rbf', C = 1, gamma = 0.1)\n",
    "clf.fit(X_train_pca, y_train)\n",
    "print(\"Fitting done\")\n",
    "\n",
    "from sklearn import metrics\n",
    "with parallel_backend('threading', n_jobs = 12):\n",
    "    print(\"Train: \", metrics.accuracy_score(y_train, clf.predict(X_train_pca)))\n",
    "    print(\"Test: \", metrics.accuracy_score(y_test, clf.predict(X_test_pca)))"
   ]
  },
  {
   "cell_type": "raw",
   "id": "0894bf90-ad5c-49ea-b915-8cd36548964b",
   "metadata": {},
   "source": [
    "n_components: 61 (1/e), KNN, n_neighbors: 5\n",
    "Train:  0.7597413079362434\n",
    "Test:  0.43383807877361436\n",
    "\n",
    "n_components: 163 (1-1/e), KNN, n_neighbors: 5\n",
    "Train:  0.8627442812286832\n",
    "Test:  0.5762221157651372"
   ]
  }
 ],
 "metadata": {
  "kernelspec": {
   "display_name": "Python 3 (ipykernel)",
   "language": "python",
   "name": "python3"
  },
  "language_info": {
   "codemirror_mode": {
    "name": "ipython",
    "version": 3
   },
   "file_extension": ".py",
   "mimetype": "text/x-python",
   "name": "python",
   "nbconvert_exporter": "python",
   "pygments_lexer": "ipython3",
   "version": "3.9.5"
  }
 },
 "nbformat": 4,
 "nbformat_minor": 5
}
